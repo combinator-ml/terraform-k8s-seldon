{
 "cells": [
  {
   "cell_type": "markdown",
   "id": "a58146e5",
   "metadata": {},
   "source": [
    "# Seldon-Core Component Demo\n",
    "\n",
    "If you are reading this then you are about to take Seldon-Core, a model serving framework, for a test drive.\n",
    "\n",
    "Seldon-Core has been packaged as a [combinator component](https://combinator.ml/components/introduction/), which makes it easy to spin up a combination of MLOps components to make a stack. This notebook is running within the cluster, next to the Seldon-Core installation.\n",
    "\n",
    "The following demo is a very short introduction to show you how to connect to seldon-core. But I recommend that you follow the [official documentation](https://docs.seldon.io/projects/seldon-core/en/latest/workflow/github-readme.html) for a comprehensive guide.\n",
    "\n",
    "## Prerequisites\n",
    "\n",
    "You will primarily interact with Seldon-Core via the Kubernetes API. This means we need to download `kubectl`.\n",
    "\n",
    "`kubectl` usage, however, requires permission. This notebook needs permission to perform actions on the Kubernetes API. This is acheived in the test drive codebase by connecting the seldon-core operator cluster role to the default service account.\n",
    "\n",
    ":warning: Connecting pre-existing cluster roles to default service accounts is not a good idea! :warning:"
   ]
  },
  {
   "cell_type": "code",
   "execution_count": 1,
   "id": "30a5075c",
   "metadata": {},
   "outputs": [],
   "source": [
    "!wget -q -O /tmp/kubectl https://dl.k8s.io/release/v1.21.2/bin/linux/amd64/kubectl \n",
    "!cp /tmp/kubectl /opt/conda/bin # Move the binary to somewhere on the PATH\n",
    "!chmod +x /opt/conda/bin/kubectl"
   ]
  },
  {
   "cell_type": "markdown",
   "id": "ca5fe1d9",
   "metadata": {},
   "source": [
    "## Deploy a Pre-Trained Model\n",
    "\n",
    "The manifest below defines a `SeldonDeployment` using a pre-trained sklearn model. This leverages Seldon-Core's sklearn server implementation."
   ]
  },
  {
   "cell_type": "code",
   "execution_count": 2,
   "id": "483acc14",
   "metadata": {
    "scrolled": true
   },
   "outputs": [
    {
     "name": "stdout",
     "output_type": "stream",
     "text": [
      "Writing deployment.yaml\n"
     ]
    }
   ],
   "source": [
    "%%writefile deployment.yaml\n",
    "apiVersion: machinelearning.seldon.io/v1\n",
    "kind: SeldonDeployment\n",
    "metadata:\n",
    "  name: iris-model\n",
    "  namespace: seldon\n",
    "spec:\n",
    "  name: iris\n",
    "  predictors:\n",
    "  - graph:\n",
    "      implementation: SKLEARN_SERVER\n",
    "      modelUri: gs://seldon-models/sklearn/iris\n",
    "      name: classifier\n",
    "    name: default\n",
    "    replicas: 1"
   ]
  },
  {
   "cell_type": "markdown",
   "id": "72e377ed",
   "metadata": {},
   "source": [
    "And apply the manifest to the seldon namespace."
   ]
  },
  {
   "cell_type": "code",
   "execution_count": 3,
   "id": "32931c9a",
   "metadata": {
    "scrolled": false
   },
   "outputs": [
    {
     "name": "stdout",
     "output_type": "stream",
     "text": [
      "seldondeployment.machinelearning.seldon.io/iris-model created\r\n"
     ]
    }
   ],
   "source": [
    "!kubectl -n seldon apply -f deployment.yaml"
   ]
  },
  {
   "cell_type": "code",
   "execution_count": 4,
   "id": "c545a023",
   "metadata": {},
   "outputs": [
    {
     "name": "stdout",
     "output_type": "stream",
     "text": [
      "deployment \"iris-model-default-0-classifier\" successfully rolled out\r\n"
     ]
    }
   ],
   "source": [
    "!kubectl -n seldon rollout status deployment/iris-model-default-0-classifier"
   ]
  },
  {
   "cell_type": "markdown",
   "id": "ffbd036e",
   "metadata": {},
   "source": [
    "## Call The Model\n",
    "\n",
    "The model container has downloaded a pre-trained model and instantiated it inside a serving container. You can now call the hosted endpoint.\n",
    "\n",
    "Seldon-core uses a service mesh to call the endpoint, so here you need to point the call towards the ingress gateway of your service mesh. In this case it's the default Istio ingress gateway and I'm able to use the internal Kubernetes DNS because this notebook is running in the cluster.\n"
   ]
  },
  {
   "cell_type": "code",
   "execution_count": 26,
   "id": "c508a13d",
   "metadata": {},
   "outputs": [
    {
     "name": "stdout",
     "output_type": "stream",
     "text": [
      "{\n",
      "    \"data\": {\n",
      "        \"names\": [\n",
      "            \"t:0\",\n",
      "            \"t:1\",\n",
      "            \"t:2\"\n",
      "        ],\n",
      "        \"ndarray\": [\n",
      "            [\n",
      "                0.0006985194531162841,\n",
      "                0.003668039039435755,\n",
      "                0.9956334415074478\n",
      "            ]\n",
      "        ]\n",
      "    },\n",
      "    \"meta\": {\n",
      "        \"requestPath\": {\n",
      "            \"classifier\": \"seldonio/sklearnserver:1.9.0\"\n",
      "        }\n",
      "    }\n",
      "}\n"
     ]
    }
   ],
   "source": [
    "import json, urllib\n",
    "\n",
    "url = \"http://istio-ingressgateway.istio-system.svc/seldon/seldon/iris-model/api/v1.0/predictions\"\n",
    "data = { \"data\": { \"ndarray\": [[1,2,3,4]] } }\n",
    "params = json.dumps(data).encode('utf8')\n",
    "req = urllib.request.Request(url,\n",
    "                             data=params,\n",
    "                             headers={'content-type': 'application/json'})\n",
    "response = urllib.request.urlopen(req)\n",
    "print(json.dumps(json.loads(response.read()), indent=4, sort_keys=True))"
   ]
  }
 ],
 "metadata": {
  "kernelspec": {
   "display_name": "Python 3",
   "language": "python",
   "name": "python3"
  },
  "language_info": {
   "codemirror_mode": {
    "name": "ipython",
    "version": 3
   },
   "file_extension": ".py",
   "mimetype": "text/x-python",
   "name": "python",
   "nbconvert_exporter": "python",
   "pygments_lexer": "ipython3",
   "version": "3.9.2"
  }
 },
 "nbformat": 4,
 "nbformat_minor": 5
}
