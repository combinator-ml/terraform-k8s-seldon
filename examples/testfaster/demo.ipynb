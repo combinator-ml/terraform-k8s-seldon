{
 "cells": [
  {
   "cell_type": "markdown",
   "id": "a58146e5",
   "metadata": {},
   "source": [
    "# Seldon-Core Component Demo\n",
    "\n",
    "If you are reading this then you are about to take Seldon-Core, a model serving framework, for a test drive.\n",
    "\n",
    "Seldon-Core has been packaged as a [combinator component](https://combinator.ml/components/introduction/), which makes it easy to spin up a combination of MLOps components to make a stack. This notebook is running within the cluster, next to the Seldon-Core installation.\n",
    "\n",
    "The following demo is a very short introduction to show you how to connect to seldon-core. But I recommend that you follow the [official documentation](https://docs.seldon.io/projects/seldon-core/en/latest/workflow/github-readme.html) for a comprehensive guide.\n",
    "\n",
    "## Prerequisites\n",
    "\n",
    "You will primarily interact with Seldon-Core via the Kubernetes API. This means we need to download `kubectl`.\n",
    "\n",
    "`kubectl` usage, however, requires permission. This notebook needs permission to perform actions on the Kubernetes API. This is acheived in the test drive codebase by connecting the seldon-core operator cluster role to the default service account.\n",
    "\n",
    ":warning: Connecting pre-existing cluster roles to default service accounts is not a good idea! :warning:"
   ]
  },
  {
   "cell_type": "code",
   "execution_count": 40,
   "id": "30a5075c",
   "metadata": {},
   "outputs": [],
   "source": [
    "!wget -q -O /tmp/kubectl https://dl.k8s.io/release/v1.21.2/bin/linux/amd64/kubectl \n",
    "!cp /tmp/kubectl /opt/conda/bin # Move the binary to somewhere on the PATH\n",
    "!chmod +x /opt/conda/bin/kubectl"
   ]
  },
  {
   "cell_type": "markdown",
   "id": "ca5fe1d9",
   "metadata": {},
   "source": [
    "## Deploy a Pre-Trained Model\n",
    "\n",
    "The manifest below defines a `SeldonDeployment` using a pre-trained sklearn model. This leverages Seldon-Core's sklearn server implementation."
   ]
  },
  {
   "cell_type": "code",
   "execution_count": 35,
   "id": "483acc14",
   "metadata": {
    "scrolled": true
   },
   "outputs": [
    {
     "name": "stdout",
     "output_type": "stream",
     "text": [
      "Overwriting deployment.yaml\n"
     ]
    }
   ],
   "source": [
    "%%writefile deployment.yaml\n",
    "apiVersion: machinelearning.seldon.io/v1\n",
    "kind: SeldonDeployment\n",
    "metadata:\n",
    "  name: iris-model\n",
    "  namespace: seldon\n",
    "spec:\n",
    "  name: iris\n",
    "  predictors:\n",
    "  - graph:\n",
    "      implementation: SKLEARN_SERVER\n",
    "      modelUri: gs://seldon-models/sklearn/iris\n",
    "      name: classifier\n",
    "    name: default\n",
    "    replicas: 1"
   ]
  },
  {
   "cell_type": "markdown",
   "id": "72e377ed",
   "metadata": {},
   "source": [
    "And apply the manifest to the seldon namespace."
   ]
  },
  {
   "cell_type": "code",
   "execution_count": 41,
   "id": "32931c9a",
   "metadata": {},
   "outputs": [
    {
     "name": "stdout",
     "output_type": "stream",
     "text": [
      "seldondeployment.machinelearning.seldon.io/iris-model unchanged\r\n"
     ]
    }
   ],
   "source": [
    "!kubectl -n seldon apply -f deployment.yaml"
   ]
  },
  {
   "cell_type": "markdown",
   "id": "9b5b7c88",
   "metadata": {},
   "source": [
    "## Connect to the Pachyderm Cluster\n",
    "\n",
    "Once downloaded, we need to connect to the cluster. It's running in the same namespace, so we can use Kubernetes' internal service DNS to get the IP of the running `pachd` container. By default the `grpc` port runs on `650`.\n",
    "\n",
    "_Note: `pachctl` is a binary, so you need to prepend all demo commands with a `!` to run the command in the shell_"
   ]
  },
  {
   "cell_type": "code",
   "execution_count": 3,
   "id": "5eaf1f8b",
   "metadata": {},
   "outputs": [],
   "source": [
    "!pachctl config update context `pachctl config get active-context` --pachd-address=pachd:650"
   ]
  },
  {
   "cell_type": "code",
   "execution_count": 4,
   "id": "94d80571",
   "metadata": {},
   "outputs": [
    {
     "name": "stdout",
     "output_type": "stream",
     "text": [
      "NAME CREATED SIZE (MASTER) DESCRIPTION \r\n"
     ]
    }
   ],
   "source": [
    "!pachctl list repo"
   ]
  },
  {
   "cell_type": "markdown",
   "id": "66c64d89",
   "metadata": {},
   "source": [
    "## Create a Repository\n",
    "\n",
    "You haven't created any repositories yet (as seen above) so you need to create one to store the test data. Below I create a repository called images to store the incoming image data you will see shortly."
   ]
  },
  {
   "cell_type": "code",
   "execution_count": 5,
   "id": "da182a02",
   "metadata": {
    "scrolled": true
   },
   "outputs": [
    {
     "name": "stdout",
     "output_type": "stream",
     "text": [
      "NAME   CREATED      SIZE (MASTER) DESCRIPTION \r\n",
      "images 1 second ago 0B                        \r\n"
     ]
    }
   ],
   "source": [
    "!pachctl create repo images\n",
    "!pachctl list repo"
   ]
  },
  {
   "cell_type": "markdown",
   "id": "cc6f9090",
   "metadata": {},
   "source": [
    "## Add Data\n",
    "\n",
    "Now it is time to add some random image data. Note the new size of the repository. Why not try [inspecting the commit history](https://docs.pachyderm.com/latest/concepts/data-concepts/commit/) at this point? Or try to [download the file](https://docs.pachyderm.com/latest/concepts/data-concepts/file/)?"
   ]
  },
  {
   "cell_type": "code",
   "execution_count": 6,
   "id": "d104698b",
   "metadata": {},
   "outputs": [
    {
     "name": "stdout",
     "output_type": "stream",
     "text": [
      "NAME   CREATED       SIZE (MASTER) DESCRIPTION \r\n",
      "images 5 seconds ago 57.27KiB                  \r\n"
     ]
    }
   ],
   "source": [
    "!pachctl put file images@master:liberty.png -f http://imgur.com/46Q8nDz.png\n",
    "!pachctl list repo"
   ]
  },
  {
   "cell_type": "code",
   "execution_count": 7,
   "id": "65f56d0a",
   "metadata": {},
   "outputs": [
    {
     "name": "stdout",
     "output_type": "stream",
     "text": [
      "REPO   BRANCH COMMIT                           FINISHED      SIZE     PROGRESS DESCRIPTION\r\n",
      "images master ae640f0bc8494f0fbfd8a8435f91390d 2 seconds ago 57.27KiB -         \r\n"
     ]
    }
   ],
   "source": [
    "!pachctl list commit images"
   ]
  },
  {
   "cell_type": "markdown",
   "id": "e740f0c7",
   "metadata": {},
   "source": [
    "## Create a Pipeline\n",
    "\n",
    "A pipeline is like a pipe that connects one repository to another, with a processing step in-between. The example below connects to the `images` repository, performs some edge detection, and writes it to an `edges` repository. Take a look at the pipeline definition if you're interested and [the documentation](https://docs.pachyderm.com/latest/concepts/pipeline-concepts/)."
   ]
  },
  {
   "cell_type": "code",
   "execution_count": 8,
   "id": "6164cf07",
   "metadata": {
    "scrolled": false
   },
   "outputs": [
    {
     "name": "stdout",
     "output_type": "stream",
     "text": [
      "WARNING: please specify a tag for the docker image in your transform.image spec.\r\n",
      "For example, change 'python' to 'python:3' or 'bash' to 'bash:5'. This improves\r\n",
      "reproducibility of your pipelines.\r\n",
      "\r\n"
     ]
    }
   ],
   "source": [
    "!pachctl create pipeline -f https://raw.githubusercontent.com/pachyderm/pachyderm/master/examples/opencv/edges.json"
   ]
  },
  {
   "cell_type": "markdown",
   "id": "2488a2b8",
   "metadata": {},
   "source": [
    "Now the pipeline has been created, you will see it automatically start to process all files in the `master` branch of the `images` repository."
   ]
  },
  {
   "cell_type": "code",
   "execution_count": 9,
   "id": "da3339dc",
   "metadata": {
    "scrolled": true
   },
   "outputs": [
    {
     "name": "stdout",
     "output_type": "stream",
     "text": [
      "NAME  VERSION INPUT     CREATED       STATE / LAST JOB   DESCRIPTION                                                                \r\n",
      "edges 1       images:/* 3 seconds ago \u001b[32mrunning\u001b[0m / \u001b[33mstarting\u001b[0m A pipeline that performs image edge detection by using the OpenCV library. \r\n"
     ]
    }
   ],
   "source": [
    "!pachctl list pipeline edges "
   ]
  },
  {
   "cell_type": "markdown",
   "id": "017f00b5",
   "metadata": {},
   "source": [
    "The flush command below is a useful way to get the notebook to wait until the pipeline that depends on this is complete. It might take a while to complete the first time because Kubernetes has to download the pipeline container."
   ]
  },
  {
   "cell_type": "code",
   "execution_count": 10,
   "id": "833556ca",
   "metadata": {
    "scrolled": true
   },
   "outputs": [
    {
     "name": "stdout",
     "output_type": "stream",
     "text": [
      "ID                               PIPELINE STARTED       DURATION  RESTART PROGRESS  DL       UL       STATE   \r\n",
      "81974c3c6b5f4fc49ba9b492047b7979 edges    3 seconds ago 3 seconds 0       1 + 0 / 1 57.27KiB 22.22KiB \u001b[32msuccess\u001b[0m \r\n"
     ]
    }
   ],
   "source": [
    "!pachctl flush job images@master"
   ]
  },
  {
   "cell_type": "code",
   "execution_count": 11,
   "id": "b7df9184",
   "metadata": {
    "scrolled": true
   },
   "outputs": [
    {
     "name": "stdout",
     "output_type": "stream",
     "text": [
      "ID                               PIPELINE STARTED        DURATION  RESTART PROGRESS  DL       UL       STATE   \r\n",
      "81974c3c6b5f4fc49ba9b492047b7979 edges    40 seconds ago 3 seconds 0       1 + 0 / 1 57.27KiB 22.22KiB \u001b[32msuccess\u001b[0m \r\n"
     ]
    }
   ],
   "source": [
    "!pachctl list job"
   ]
  },
  {
   "cell_type": "markdown",
   "id": "a635b8de",
   "metadata": {},
   "source": [
    "## View the Result of the Pipeline\n",
    "\n",
    "The pipeline created an output repository, which we can query to get a file. I'm using jupyter's inbuilt markdown processor to show the image."
   ]
  },
  {
   "cell_type": "code",
   "execution_count": 12,
   "id": "a268bb8f",
   "metadata": {},
   "outputs": [],
   "source": [
    "!pachctl get file edges@master:liberty.png > liberty.png"
   ]
  },
  {
   "cell_type": "markdown",
   "id": "18449c5d",
   "metadata": {},
   "source": [
    "![](liberty.png)"
   ]
  },
  {
   "cell_type": "markdown",
   "id": "7e09edda",
   "metadata": {},
   "source": [
    "## Create Another Pipeline\n",
    "\n",
    "You can create sophisticated graphs in Pachyderm. The example below is creating another pipeline called `montage` that uses the output of the `edges` pipeline.\n",
    "\n",
    "As before, I run a few commands to wait for it to complete."
   ]
  },
  {
   "cell_type": "code",
   "execution_count": 13,
   "id": "255aa16a",
   "metadata": {},
   "outputs": [],
   "source": [
    "!pachctl create pipeline -f https://raw.githubusercontent.com/pachyderm/pachyderm/master/examples/opencv/montage.json"
   ]
  },
  {
   "cell_type": "code",
   "execution_count": 14,
   "id": "bf0b59c6",
   "metadata": {},
   "outputs": [
    {
     "name": "stdout",
     "output_type": "stream",
     "text": [
      "ID                               PIPELINE STARTED       DURATION RESTART PROGRESS  DL       UL       STATE   \n",
      "b4a6fcbb50774664b86519dc4ba713c5 montage  6 seconds ago 1 second 0       1 + 0 / 1 79.49KiB 381.1KiB \u001b[32msuccess\u001b[0m \n",
      "ID                               PIPELINE STARTED       DURATION  RESTART PROGRESS  DL       UL       STATE   \n",
      "b4a6fcbb50774664b86519dc4ba713c5 montage  8 seconds ago 1 second  0       1 + 0 / 1 79.49KiB 381.1KiB \u001b[32msuccess\u001b[0m \n",
      "81974c3c6b5f4fc49ba9b492047b7979 edges    3 minutes ago 3 seconds 0       1 + 0 / 1 57.27KiB 22.22KiB \u001b[32msuccess\u001b[0m \n"
     ]
    }
   ],
   "source": [
    "!pachctl flush job edges@master\n",
    "!pachctl list job"
   ]
  },
  {
   "cell_type": "code",
   "execution_count": 15,
   "id": "1fe95f9f",
   "metadata": {},
   "outputs": [],
   "source": [
    "!pachctl get file montage@master:montage.png > montage.png"
   ]
  },
  {
   "cell_type": "markdown",
   "id": "7696f9e8",
   "metadata": {},
   "source": [
    "![](montage.png)"
   ]
  },
  {
   "cell_type": "markdown",
   "id": "49b3f6f1",
   "metadata": {},
   "source": [
    "## Data Driven Pipelines\n",
    "\n",
    "Automatically trigger both pipelines by adding some more data to the `images` repository. Remember that all commits are retained, and you can move back to them at any time.\n"
   ]
  },
  {
   "cell_type": "code",
   "execution_count": 16,
   "id": "45218661",
   "metadata": {},
   "outputs": [],
   "source": [
    "!pachctl put file images@master:AT-AT.png -f http://imgur.com/8MN9Kg0.png\n",
    "!pachctl put file images@master:kitten.png -f http://imgur.com/g2QnNqa.png"
   ]
  },
  {
   "cell_type": "code",
   "execution_count": 17,
   "id": "0e321bd5",
   "metadata": {},
   "outputs": [
    {
     "name": "stdout",
     "output_type": "stream",
     "text": [
      "ID                               PIPELINE STARTED       DURATION  RESTART PROGRESS  DL       UL       STATE   \n",
      "8eddf1f8918e440bae974547d526ce5c montage  5 seconds ago 5 seconds 0       1 + 0 / 1 371.9KiB 1.292MiB \u001b[32msuccess\u001b[0m \n",
      "0229702d3ea14c48a693e0461ef32e39 edges    9 seconds ago 2 seconds 0       1 + 2 / 3 102.4KiB 74.21KiB \u001b[32msuccess\u001b[0m \n",
      "ID                               PIPELINE STARTED            DURATION  RESTART PROGRESS  DL       UL       STATE   \n",
      "8eddf1f8918e440bae974547d526ce5c montage  6 seconds ago      5 seconds 0       1 + 0 / 1 371.9KiB 1.292MiB \u001b[32msuccess\u001b[0m \n",
      "a5aff06ed6194402b63cf1ede766eb78 montage  10 seconds ago     3 seconds 0       1 + 0 / 1 195.3KiB 815.1KiB \u001b[32msuccess\u001b[0m \n",
      "0229702d3ea14c48a693e0461ef32e39 edges    10 seconds ago     2 seconds 0       1 + 2 / 3 102.4KiB 74.21KiB \u001b[32msuccess\u001b[0m \n",
      "0c4df8ef12e749f39ac0afceb19f9c8f edges    12 seconds ago     1 second  0       1 + 1 / 2 78.7KiB  37.15KiB \u001b[32msuccess\u001b[0m \n",
      "b4a6fcbb50774664b86519dc4ba713c5 montage  About a minute ago 1 second  0       1 + 0 / 1 79.49KiB 381.1KiB \u001b[32msuccess\u001b[0m \n",
      "81974c3c6b5f4fc49ba9b492047b7979 edges    5 minutes ago      3 seconds 0       1 + 0 / 1 57.27KiB 22.22KiB \u001b[32msuccess\u001b[0m \n"
     ]
    }
   ],
   "source": [
    "!pachctl flush job images@master\n",
    "!pachctl list job"
   ]
  },
  {
   "cell_type": "code",
   "execution_count": 18,
   "id": "84e90b5d",
   "metadata": {},
   "outputs": [],
   "source": [
    "!pachctl get file montage@master:montage.png > montage.png"
   ]
  },
  {
   "cell_type": "markdown",
   "id": "0f361f8f",
   "metadata": {},
   "source": [
    "![](montage.png)"
   ]
  },
  {
   "cell_type": "markdown",
   "id": "8150a070",
   "metadata": {},
   "source": [
    "## Next Steps\n",
    "\n",
    "That's it for this demo. I recommend looking through [the official documentation](https://docs.pachyderm.com/latest/).\n",
    "\n",
    "Also try more demos by creating a new notebook and walk through the [Pachyderm examples](https://docs.pachyderm.com/latest/how-tos/).\n",
    "\n",
    "Also try other [Combinator stacks](https://combinator.ml/stacks/introduction/) which integrate other products with Pachyderm for 10x multipliers!"
   ]
  },
  {
   "cell_type": "markdown",
   "id": "aeea03d9",
   "metadata": {},
   "source": [
    "## Clean Up\n",
    "\n",
    "The following command deletes all data and pipelines, in case you want to run through the demo notebook again."
   ]
  },
  {
   "cell_type": "code",
   "execution_count": 2,
   "id": "f37b3ef5",
   "metadata": {},
   "outputs": [],
   "source": [
    "!pachctl delete repo --all && pachctl delete pipeline --all"
   ]
  }
 ],
 "metadata": {
  "kernelspec": {
   "display_name": "Python 3",
   "language": "python",
   "name": "python3"
  },
  "language_info": {
   "codemirror_mode": {
    "name": "ipython",
    "version": 3
   },
   "file_extension": ".py",
   "mimetype": "text/x-python",
   "name": "python",
   "nbconvert_exporter": "python",
   "pygments_lexer": "ipython3",
   "version": "3.9.2"
  }
 },
 "nbformat": 4,
 "nbformat_minor": 5
}
